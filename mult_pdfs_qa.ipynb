{
 "cells": [
  {
   "attachments": {},
   "cell_type": "markdown",
   "metadata": {},
   "source": [
    "# Langchain Retreival QA With Multiple Files and File Types"
   ]
  },
  {
   "cell_type": "code",
   "execution_count": 4,
   "metadata": {},
   "outputs": [],
   "source": [
    "import os\n",
    "from langchain import PromptTemplate\n",
    "from langchain.chat_models import ChatOpenAI\n",
    "from langchain.schema import (\n",
    "    AIMessage,\n",
    "    HumanMessage,\n",
    "    SystemMessage\n",
    ")\n",
    "from langchain.document_loaders import PyPDFLoader\n",
    "from langchain.vectorstores import Chroma\n",
    "from langchain.text_splitter import RecursiveCharacterTextSplitter\n",
    "from langchain.embeddings import OpenAIEmbeddings\n",
    "from langchain.llms import OpenAI\n",
    "from langchain.chains import RetrievalQA\n",
    "from langchain.document_loaders import PyPDFLoader, TextLoader, DirectoryLoader\n",
    "import yaml"
   ]
  },
  {
   "cell_type": "code",
   "execution_count": 3,
   "metadata": {},
   "outputs": [],
   "source": [
    "with open(r\"..\\openai.yaml\") as f:\n",
    "    spec = yaml.safe_load(f)\n",
    "    key = spec['openai']['key']\n",
    "    serp_key = spec['serpapi']['key']\n",
    "\n",
    "os.environ['OPENAI_API_KEY'] = key    \n",
    "os.environ['SERPAPI_API_KEY'] = serp_key"
   ]
  },
  {
   "cell_type": "code",
   "execution_count": 5,
   "metadata": {},
   "outputs": [
    {
     "name": "stderr",
     "output_type": "stream",
     "text": [
      "'wget' is not recognized as an internal or external command,\n",
      "operable program or batch file.\n",
      "'unzip' is not recognized as an internal or external command,\n",
      "operable program or batch file.\n"
     ]
    }
   ],
   "source": [
    "# !wget -q https://www.dropbox.com/s/vs6ocyvpzzncvwh/new_articles.zip ./docs/\n",
    "# !unzip -q new_articles.zip new_articles "
   ]
  },
  {
   "cell_type": "code",
   "execution_count": 59,
   "metadata": {},
   "outputs": [
    {
     "name": "stdout",
     "output_type": "stream",
     "text": [
      "432\n"
     ]
    }
   ],
   "source": [
    "loader = DirectoryLoader(\"./docs/pdfs\", glob=\"*.pdf\", loader_cls=PyPDFLoader)\n",
    "pdfs = loader.load()\n",
    "# print(pdfs)\n",
    "print(len(pdfs))"
   ]
  },
  {
   "cell_type": "code",
   "execution_count": 8,
   "metadata": {},
   "outputs": [
    {
     "name": "stdout",
     "output_type": "stream",
     "text": [
      "<class 'langchain.schema.Document'>\n",
      "<class 'list'>\n"
     ]
    }
   ],
   "source": [
    "print(type(pdfs[0]))\n",
    "print(type(pdfs))"
   ]
  },
  {
   "cell_type": "code",
   "execution_count": 9,
   "metadata": {},
   "outputs": [
    {
     "name": "stdout",
     "output_type": "stream",
     "text": [
      "page_content='Attention Is All You Need\\nAshish Vaswani\\x03\\nGoogle Brain\\navaswani@google.comNoam Shazeer\\x03\\nGoogle Brain\\nnoam@google.comNiki Parmar\\x03\\nGoogle Research\\nnikip@google.comJakob Uszkoreit\\x03\\nGoogle Research\\nusz@google.com\\nLlion Jones\\x03\\nGoogle Research\\nllion@google.comAidan N. Gomez\\x03y\\nUniversity of Toronto\\naidan@cs.toronto.eduŁukasz Kaiser\\x03\\nGoogle Brain\\nlukaszkaiser@google.com\\nIllia Polosukhin\\x03z\\nillia.polosukhin@gmail.com\\nAbstract\\nThe dominant sequence transduction models are based on complex recurrent or\\nconvolutional neural networks that include an encoder and a decoder. The best\\nperforming models also connect the encoder and decoder through an attention\\nmechanism. We propose a new simple network architecture, the Transformer,\\nbased solely on attention mechanisms, dispensing with recurrence and convolutions\\nentirely. Experiments on two machine translation tasks show these models to\\nbe superior in quality while being more parallelizable and requiring signiﬁcantly\\nless time to train. Our model achieves 28.4 BLEU on the WMT 2014 English-\\nto-German translation task, improving over the existing best results, including\\nensembles, by over 2 BLEU. On the WMT 2014 English-to-French translation task,\\nour model establishes a new single-model state-of-the-art BLEU score of 41.8 after\\ntraining for 3.5 days on eight GPUs, a small fraction of the training costs of the\\nbest models from the literature. We show that the Transformer generalizes well to\\nother tasks by applying it successfully to English constituency parsing both with\\nlarge and limited training data.\\n1 Introduction\\nRecurrent neural networks, long short-term memory [ 13] and gated recurrent [ 7] neural networks\\nin particular, have been ﬁrmly established as state of the art approaches in sequence modeling and\\n\\x03Equal contribution. Listing order is random. Jakob proposed replacing RNNs with self-attention and started\\nthe effort to evaluate this idea. Ashish, with Illia, designed and implemented the ﬁrst Transformer models and\\nhas been crucially involved in every aspect of this work. Noam proposed scaled dot-product attention, multi-head\\nattention and the parameter-free position representation and became the other person involved in nearly every\\ndetail. Niki designed, implemented, tuned and evaluated countless model variants in our original codebase and\\ntensor2tensor. Llion also experimented with novel model variants, was responsible for our initial codebase, and\\nefﬁcient inference and visualizations. Lukasz and Aidan spent countless long days designing various parts of and\\nimplementing tensor2tensor, replacing our earlier codebase, greatly improving results and massively accelerating\\nour research.\\nyWork performed while at Google Brain.\\nzWork performed while at Google Research.\\n31st Conference on Neural Information Processing Systems (NIPS 2017), Long Beach, CA, USA.arXiv:1706.03762v5  [cs.CL]  6 Dec 2017' metadata={'source': 'docs\\\\pdfs\\\\attention_is_all_you_need.pdf', 'page': 0}\n"
     ]
    }
   ],
   "source": [
    "print(pdfs[0])"
   ]
  },
  {
   "cell_type": "code",
   "execution_count": 11,
   "metadata": {},
   "outputs": [
    {
     "name": "stdout",
     "output_type": "stream",
     "text": [
      "21\n"
     ]
    }
   ],
   "source": [
    "txt_loader = DirectoryLoader(\"./docs/new_articles\", glob=\"*.txt\", loader_cls=TextLoader)\n",
    "txt_docs = txt_loader.load()\n",
    "print(len(txt_docs))"
   ]
  },
  {
   "cell_type": "code",
   "execution_count": 12,
   "metadata": {},
   "outputs": [],
   "source": [
    "all_docs = pdfs + txt_docs"
   ]
  },
  {
   "cell_type": "code",
   "execution_count": 16,
   "metadata": {},
   "outputs": [
    {
     "name": "stdout",
     "output_type": "stream",
     "text": [
      "453\n"
     ]
    }
   ],
   "source": [
    "print(len(all_docs))"
   ]
  },
  {
   "cell_type": "code",
   "execution_count": 13,
   "metadata": {},
   "outputs": [],
   "source": [
    "# Split the texts into smaller chunks\n",
    "text_splitter = RecursiveCharacterTextSplitter(chunk_size=1000, chunk_overlap=200)\n",
    "texts = text_splitter.split_documents(all_docs)"
   ]
  },
  {
   "cell_type": "code",
   "execution_count": 14,
   "metadata": {},
   "outputs": [
    {
     "data": {
      "text/plain": [
       "1295"
      ]
     },
     "execution_count": 14,
     "metadata": {},
     "output_type": "execute_result"
    }
   ],
   "source": [
    "len(texts)"
   ]
  },
  {
   "attachments": {},
   "cell_type": "markdown",
   "metadata": {},
   "source": [
    "## Create the Database"
   ]
  },
  {
   "cell_type": "code",
   "execution_count": 25,
   "metadata": {},
   "outputs": [],
   "source": [
    "# Embed and store the texts\n",
    "persist_dir = './db'\n",
    "\n",
    "# using OpneAI embeddings\n",
    "embedding = OpenAIEmbeddings()\n",
    "\n",
    "vectordb = Chroma.from_documents(texts, embedding, persist_directory=persist_dir)"
   ]
  },
  {
   "cell_type": "code",
   "execution_count": 26,
   "metadata": {},
   "outputs": [],
   "source": [
    "# persists the db to disk\n",
    "vectordb.persist()\n",
    "vectordb = None"
   ]
  },
  {
   "cell_type": "code",
   "execution_count": 27,
   "metadata": {},
   "outputs": [],
   "source": [
    "vectordb = Chroma(persist_directory=persist_dir, embedding_function=embedding)"
   ]
  },
  {
   "attachments": {},
   "cell_type": "markdown",
   "metadata": {},
   "source": [
    "## Make a rertrieval QA model"
   ]
  },
  {
   "cell_type": "code",
   "execution_count": 29,
   "metadata": {},
   "outputs": [
    {
     "name": "stdout",
     "output_type": "stream",
     "text": [
      "4\n"
     ]
    }
   ],
   "source": [
    "retreiever = vectordb.as_retriever()\n",
    "docs = retreiever.get_relevant_documents(\"How much money did Pando raise?\")\n",
    "print(len(docs))"
   ]
  },
  {
   "cell_type": "code",
   "execution_count": 30,
   "metadata": {},
   "outputs": [
    {
     "data": {
      "text/plain": [
       "'similarity'"
      ]
     },
     "execution_count": 30,
     "metadata": {},
     "output_type": "execute_result"
    }
   ],
   "source": [
    "retreiever.search_type"
   ]
  },
  {
   "attachments": {},
   "cell_type": "markdown",
   "metadata": {},
   "source": [
    "## Make a chain"
   ]
  },
  {
   "cell_type": "code",
   "execution_count": 32,
   "metadata": {},
   "outputs": [],
   "source": [
    "qa_chain = RetrievalQA.from_chain_type(\n",
    "    llm=OpenAI(temperature=0.0),\n",
    "    chain_type=\"stuff\",\n",
    "    retriever=retreiever,\n",
    "    return_source_documents=True\n",
    ")"
   ]
  },
  {
   "cell_type": "code",
   "execution_count": 51,
   "metadata": {},
   "outputs": [],
   "source": [
    "## Cite Sources\n",
    "def process_llm_responses(llm_response):\n",
    "    print(llm_response['result'])\n",
    "    print(\"\\n\\nSources:\")\n",
    "    for source in llm_response['source_documents']:\n",
    "        source_pg = source.metadata.get('source', None)\n",
    "        page = source.metadata.get('page', None)\n",
    "        print(f\"{source_pg} - {page}\")"
   ]
  },
  {
   "cell_type": "code",
   "execution_count": 52,
   "metadata": {},
   "outputs": [
    {
     "name": "stdout",
     "output_type": "stream",
     "text": [
      " Pando raised $30 million in a Series B round.\n",
      "\n",
      "\n",
      "Sources:\n",
      "docs\\new_articles\\05-03-ai-powered-supply-chain-startup-pando-lands-30m-investment.txt - None\n",
      "docs\\new_articles\\05-03-ai-powered-supply-chain-startup-pando-lands-30m-investment.txt - None\n",
      "docs\\new_articles\\05-07-3one4-capital-driven-by-contrarian-bets-raises-200-million-new-fund.txt - None\n",
      "docs\\new_articles\\05-07-fintech-space-continues-to-be-competitive-and-drama-filled.txt - None\n"
     ]
    }
   ],
   "source": [
    "query = \"How much money did Pando raise?\"\n",
    "llm_response = qa_chain(query)\n",
    "process_llm_responses(llm_response)"
   ]
  },
  {
   "cell_type": "code",
   "execution_count": 53,
   "metadata": {},
   "outputs": [
    {
     "name": "stdout",
     "output_type": "stream",
     "text": [
      " You can calculate the number of cores on your Spark cluster by looking at the number of executors and the number of cores per executor.\n",
      "\n",
      "\n",
      "Sources:\n",
      "docs\\pdfs\\LearningSpark2.0.pdf - 37\n",
      "docs\\pdfs\\LearningSpark2.0.pdf - 285\n",
      "docs\\pdfs\\LearningSpark2.0.pdf - 204\n",
      "docs\\pdfs\\LearningSpark2.0.pdf - 203\n"
     ]
    }
   ],
   "source": [
    "# Ask a Spark question\n",
    "query = \"How do I calculate the number of cores on my spark cluster?\"\n",
    "llm_response = qa_chain(query)\n",
    "process_llm_responses(llm_response)"
   ]
  },
  {
   "cell_type": "code",
   "execution_count": 54,
   "metadata": {},
   "outputs": [
    {
     "data": {
      "text/plain": [
       "{'source': 'docs\\\\pdfs\\\\LearningSpark2.0.pdf', 'page': 37}"
      ]
     },
     "execution_count": 54,
     "metadata": {},
     "output_type": "execute_result"
    }
   ],
   "source": [
    "llm_response[\"source_documents\"][0].metadata"
   ]
  },
  {
   "cell_type": "code",
   "execution_count": 58,
   "metadata": {},
   "outputs": [
    {
     "name": "stdout",
     "output_type": "stream",
     "text": [
      " The best way to combine two data sources together in Spark is to use the DataFrame-based APIs and domain-specific language (DSL) queries. This allows developers to treat the data as a structured table and issue queries against it as they would a static table.\n",
      "\n",
      "\n",
      "Sources:\n",
      "docs\\pdfs\\LearningSpark2.0.pdf - 38\n",
      "docs\\pdfs\\LearningSpark2.0.pdf - 39\n",
      "docs\\pdfs\\LearningSpark2.0.pdf - 31\n",
      "docs\\pdfs\\LearningSpark2.0.pdf - 290\n"
     ]
    }
   ],
   "source": [
    "# Ask a Spark question\n",
    "query = \"Whats the best way to combine two data sources together in Spark?\"\n",
    "llm_response = qa_chain(query)\n",
    "process_llm_responses(llm_response)"
   ]
  },
  {
   "cell_type": "code",
   "execution_count": 55,
   "metadata": {},
   "outputs": [
    {
     "name": "stdout",
     "output_type": "stream",
     "text": [
      " There is no set number of pushups, situps, pull-ups, and squats you should do everyday to prepare for The Murph. It is best to follow the specific workout program outlined in the Murph training plan.\n",
      "\n",
      "\n",
      "Sources:\n",
      "docs\\pdfs\\Murph-training.pdf - 14\n",
      "docs\\pdfs\\Murph-training.pdf - 15\n",
      "docs\\pdfs\\Murph-training.pdf - 4\n",
      "docs\\pdfs\\Murph-training.pdf - 6\n"
     ]
    }
   ],
   "source": [
    "# Ask a Murph question\n",
    "query = \"How many pushups, situps, pull-ups, and squats should I do everyday to prepare for The Murph?\"\n",
    "llm_response = qa_chain(query)\n",
    "process_llm_responses(llm_response)"
   ]
  },
  {
   "cell_type": "code",
   "execution_count": 56,
   "metadata": {},
   "outputs": [
    {
     "name": "stdout",
     "output_type": "stream",
     "text": [
      " The Transformer model is based solely on attention mechanisms, dispensing with recurrence and convolutions entirely. It outperforms other models in quality while being more parallelizable and requiring significantly less training cost.\n",
      "\n",
      "\n",
      "Sources:\n",
      "docs\\pdfs\\attention_is_all_you_need.pdf - 1\n",
      "docs\\pdfs\\attention_is_all_you_need.pdf - 0\n",
      "docs\\pdfs\\attention_is_all_you_need.pdf - 7\n",
      "docs\\pdfs\\attention_is_all_you_need.pdf - 2\n"
     ]
    }
   ],
   "source": [
    "# Ask a Transformer question\n",
    "query = \"How does the Transformer model work compared to other deep learning models?\"\n",
    "llm_response = qa_chain(query)\n",
    "process_llm_responses(llm_response)"
   ]
  },
  {
   "cell_type": "code",
   "execution_count": 57,
   "metadata": {},
   "outputs": [
    {
     "name": "stdout",
     "output_type": "stream",
     "text": [
      "\n",
      "\n",
      "ChatGPT is a general-purpose chatbot that uses artificial intelligence to generate text after a user enters a prompt, developed by tech startup OpenAI. The chatbot uses GPT-4, a large language model that uses deep learning to produce human-like text. It was released on November 30, 2022 and has been regularly updated with new GPT models, the most recent being GPT-4. It can be used for a range of tasks, including programming, TV scripts, scientific concepts, email replies, listicles, blog ideas, summarization, debugging code, complex problem solving, and more. It has an API that was released on March 1, 2023, and users can save their chats.\n",
      "\n",
      "\n",
      "Sources:\n",
      "docs\\new_articles\\05-03-chatgpt-everything-you-need-to-know-about-the-ai-powered-chatbot.txt - None\n",
      "docs\\new_articles\\05-03-chatgpt-everything-you-need-to-know-about-the-ai-powered-chatbot.txt - None\n",
      "docs\\new_articles\\05-03-chatgpt-everything-you-need-to-know-about-the-ai-powered-chatbot.txt - None\n",
      "docs\\new_articles\\05-03-chatgpt-everything-you-need-to-know-about-the-ai-powered-chatbot.txt - None\n"
     ]
    }
   ],
   "source": [
    "# Ask a ChatGPT question\n",
    "query = \"Tell me everything about ChatGPT\"\n",
    "llm_response = qa_chain(query)\n",
    "process_llm_responses(llm_response)"
   ]
  },
  {
   "cell_type": "code",
   "execution_count": null,
   "metadata": {},
   "outputs": [],
   "source": []
  },
  {
   "cell_type": "code",
   "execution_count": null,
   "metadata": {},
   "outputs": [],
   "source": []
  }
 ],
 "metadata": {
  "kernelspec": {
   "display_name": "llm",
   "language": "python",
   "name": "llm"
  },
  "language_info": {
   "codemirror_mode": {
    "name": "ipython",
    "version": 3
   },
   "file_extension": ".py",
   "mimetype": "text/x-python",
   "name": "python",
   "nbconvert_exporter": "python",
   "pygments_lexer": "ipython3",
   "version": "3.10.12"
  },
  "orig_nbformat": 4
 },
 "nbformat": 4,
 "nbformat_minor": 2
}
